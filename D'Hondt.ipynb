{
  "nbformat": 4,
  "nbformat_minor": 0,
  "metadata": {
    "colab": {
      "name": "D'Hondt.ipynb",
      "version": "0.3.2",
      "provenance": [],
      "collapsed_sections": [],
      "include_colab_link": true
    },
    "kernelspec": {
      "name": "python3",
      "display_name": "Python 3"
    }
  },
  "cells": [
    {
      "cell_type": "markdown",
      "metadata": {
        "id": "view-in-github",
        "colab_type": "text"
      },
      "source": [
        "<a href=\"https://colab.research.google.com/github/skdw/DHondt/blob/master/D'Hondt.ipynb\" target=\"_parent\"><img src=\"https://colab.research.google.com/assets/colab-badge.svg\" alt=\"Open In Colab\"/></a>"
      ]
    },
    {
      "cell_type": "code",
      "metadata": {
        "id": "caBiEorkZeRP",
        "colab_type": "code",
        "colab": {}
      },
      "source": [
        "def count_mandates(votes: dict, seats, constituencies):\n",
        "  \n",
        "  # Algorithm: https://www.salon24.pl/u/jaroslawflis/683201,konstytucja-d-hondt-be-surprised,2\n",
        "  \n",
        "  not_lost = sum(votes.values())\n",
        "  P = len(votes) # parties_count\n",
        "  M = seats\n",
        "  D = constituencies\n",
        "  result = {}\n",
        "  \n",
        "  for party in votes:\n",
        "    V = votes[party] / not_lost\n",
        "    mandates = round(max( V*M + V*D*P/2 - (D/2), 0 ))\n",
        "    result[party] = mandates\n",
        "    \n",
        "  return result"
      ],
      "execution_count": 0,
      "outputs": []
    },
    {
      "cell_type": "code",
      "metadata": {
        "id": "6ZYD8l5CjVGx",
        "colab_type": "code",
        "colab": {}
      },
      "source": [
        "# Presents results in a table\n",
        "\n",
        "from google.colab import widgets\n",
        "\n",
        "def print_mandates(parties: dict, mandates: dict):\n",
        "  grid = widgets.Grid(len(parties)+1, 3, header_row=True)\n",
        "  with grid.output_to(0, 0):\n",
        "    print(\"Party\")\n",
        "  with grid.output_to(0, 1):\n",
        "    print(\"Votes\")\n",
        "  with grid.output_to(0, 2):\n",
        "    print(\"Mandates\")\n",
        "    \n",
        "  for idx, party in enumerate(parties):\n",
        "    with grid.output_to(idx+1, 0):\n",
        "      print(party)\n",
        "    with grid.output_to(idx+1, 1):\n",
        "      print(parties[party])\n",
        "    with grid.output_to(idx+1, 2):\n",
        "      print(mandates[party])"
      ],
      "execution_count": 0,
      "outputs": []
    },
    {
      "cell_type": "code",
      "metadata": {
        "id": "dihSat8vruPB",
        "colab_type": "code",
        "colab": {}
      },
      "source": [
        "# Presents results as a parliament visualisation\n",
        "\n",
        "import IPython\n",
        "from google.colab import output\n",
        "\n",
        "def draw_parliament(data):\n",
        "  code = '''\n",
        "    <script src=\"https://code.highcharts.com/highcharts.js\"></script>\n",
        "    <script src=\"https://code.highcharts.com/modules/item-series.js\"></script>\n",
        "    <script src=\"https://code.highcharts.com/modules/accessibility.js\"></script>\n",
        "\n",
        "    <div id=\"container\"></div>\n",
        "    <!-- partial -->\n",
        "      <script>\n",
        "        Highcharts.chart('container', {\n",
        "        chart: {\n",
        "          type: 'item'\n",
        "        },\n",
        "\n",
        "        title: {\n",
        "          text: 'Parliament'\n",
        "        },\n",
        "\n",
        "        legend: {\n",
        "          labelFormat: '{name} <span style=\"opacity: 0.4\">{y}</span>'\n",
        "        },\n",
        "\n",
        "        series: [{\n",
        "          name: 'Number of seats',\n",
        "          keys: ['name', 'y', 'color', 'label'],\n",
        "          data: \n",
        "       '''\n",
        "  code2 = ''',\n",
        "          dataLabels: {\n",
        "            enabled: false,\n",
        "            format: '{point.label}'\n",
        "          },\n",
        "          // Circular options\n",
        "          center: ['50%', '88%'],\n",
        "          size: '170%',\n",
        "          startAngle: -100,\n",
        "          endAngle: 100\n",
        "        }]\n",
        "\n",
        "      });\n",
        "\n",
        "      </script>\n",
        "      '''\n",
        "  \n",
        "  display(IPython.display.HTML(code + str(data) + code2))"
      ],
      "execution_count": 0,
      "outputs": []
    },
    {
      "cell_type": "code",
      "metadata": {
        "id": "WOd5NAwK3zQf",
        "colab_type": "code",
        "colab": {}
      },
      "source": [
        "def get_data(votes, mandates, meta):\n",
        "  data = []\n",
        "  for key, _ in votes.items():\n",
        "    l = [key, mandates[key], meta[key][0], meta[key][1]]\n",
        "    data.append(l)\n",
        "  return data"
      ],
      "execution_count": 0,
      "outputs": []
    },
    {
      "cell_type": "code",
      "metadata": {
        "id": "g74zwE0w3H7g",
        "colab_type": "code",
        "colab": {
          "base_uri": "https://localhost:8080/",
          "height": 417
        },
        "outputId": "503f614a-8289-4a43-8000-0a14ee155ccd"
      },
      "source": [
        "meta = {\n",
        "  # can contain parties below the threshold \n",
        "  'PiS': ['#073A76', 'PiS'],\n",
        "  'PO': ['#FAA14C', 'PO'],\n",
        "  'Lewica': ['#CE000C', 'Lewica'],\n",
        "  'PSL-KP': ['#008000', 'PSL-KP'],\n",
        "  'Konfederacja': ['#10069f', 'Konfederacja'],\n",
        "}\n",
        "\n",
        "seats = 460\n",
        "constituencies = 41\n",
        "\n",
        "votes = {\n",
        "  # over the threshold only, comment the parties below threshold\n",
        "    \"PiS\": 47,\n",
        "    \"PO\": 27,\n",
        "    \"Lewica\": 11,\n",
        "    \"PSL-KP\": 7,\n",
        "  # \"Konfederacja\": 4.99\n",
        "    }\n",
        "\n",
        "mandates = count_mandates(votes, seats, constituencies)\n",
        "\n",
        "#print_mandates(votes, mandates)\n",
        "data = get_data(votes, mandates, meta)\n",
        "draw_parliament(data)"
      ],
      "execution_count": 285,
      "outputs": [
        {
          "output_type": "display_data",
          "data": {
            "text/html": [
              "\n",
              "    <script src=\"https://code.highcharts.com/highcharts.js\"></script>\n",
              "    <script src=\"https://code.highcharts.com/modules/item-series.js\"></script>\n",
              "    <script src=\"https://code.highcharts.com/modules/accessibility.js\"></script>\n",
              "\n",
              "    <div id=\"container\"></div>\n",
              "    <!-- partial -->\n",
              "      <script>\n",
              "        Highcharts.chart('container', {\n",
              "        chart: {\n",
              "          type: 'item'\n",
              "        },\n",
              "\n",
              "        title: {\n",
              "          text: 'Parliament'\n",
              "        },\n",
              "\n",
              "        legend: {\n",
              "          labelFormat: '{name} <span style=\"opacity: 0.4\">{y}</span>'\n",
              "        },\n",
              "\n",
              "        series: [{\n",
              "          name: 'Number of seats',\n",
              "          keys: ['name', 'y', 'color', 'label'],\n",
              "          data: \n",
              "       [['PiS', 256, '#073A76', 'PiS'], ['PO', 139, '#FAA14C', 'PO'], ['Lewica', 44, '#CE000C', 'Lewica'], ['PSL-KP', 21, '#008000', 'PSL-KP']],\n",
              "          dataLabels: {\n",
              "            enabled: false,\n",
              "            format: '{point.label}'\n",
              "          },\n",
              "          // Circular options\n",
              "          center: ['50%', '88%'],\n",
              "          size: '170%',\n",
              "          startAngle: -100,\n",
              "          endAngle: 100\n",
              "        }]\n",
              "\n",
              "      });\n",
              "\n",
              "      </script>\n",
              "      "
            ],
            "text/plain": [
              "<IPython.core.display.HTML object>"
            ]
          },
          "metadata": {
            "tags": []
          }
        }
      ]
    }
  ]
}